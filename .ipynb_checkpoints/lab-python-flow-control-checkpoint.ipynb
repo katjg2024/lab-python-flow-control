{
 "cells": [
  {
   "cell_type": "markdown",
   "id": "d3bfc191-8885-42ee-b0a0-bbab867c6f9f",
   "metadata": {
    "tags": []
   },
   "source": [
    "# Lab | Flow Control"
   ]
  },
  {
   "cell_type": "markdown",
   "id": "3851fcd1-cf98-4653-9c89-e003b7ec9400",
   "metadata": {},
   "source": [
    "## Exercise: Managing Customer Orders Optimized\n",
    "\n",
    "In the last lab, you were starting an online store that sells various products. To ensure smooth operations, you developed a program that manages customer orders and inventory.\n",
    "\n",
    "You did so without using flow control. Let's go a step further and improve this code.\n",
    "\n",
    "Follow the steps below to complete the exercise:\n",
    "\n",
    "1. Look at your code from the lab data structures, and improve repeated code with loops.\n",
    "\n",
    "2. Instead of asking the user to input the name of three products that a customer wants to order, do the following:\n",
    "    \n",
    "    a. Prompt the user to enter the name of a product that a customer wants to order.\n",
    "    \n",
    "    b. Add the product name to the \"customer_orders\" set.\n",
    "    \n",
    "    c. Ask the user if they want to add another product (yes/no).\n",
    "    \n",
    "    d. Continue the loop until the user does not want to add another product.\n",
    "\n",
    "3. Instead of updating the inventory by subtracting 1 from the quantity of each product, only do it for  the products that were ordered (those in \"customer_orders\")."
   ]
  },
  {
   "cell_type": "code",
   "execution_count": 69,
   "id": "8e0641a0",
   "metadata": {},
   "outputs": [
    {
     "name": "stdout",
     "output_type": "stream",
     "text": [
      "Please enter quantity of t-shirt: 10\n",
      "Please enter quantity of mug: 10\n",
      "Please enter quantity of hat: 10\n",
      "Please enter quantity of book: 10\n",
      "Please enter quantity of keychain: 10\n"
     ]
    }
   ],
   "source": [
    "products = [\"t-shirt\", \"mug\", \"hat\", \"book\", \"keychain\"]\n",
    "inventory = {}\n",
    "\n",
    "for product in products:\n",
    "    quantity = input(f\"Please enter quantity of {product}: \")\n",
    "    inventory[product]=quantity\n",
    "    \n",
    "customer_orders = set()"
   ]
  },
  {
   "cell_type": "code",
   "execution_count": 70,
   "id": "bb4d639a",
   "metadata": {},
   "outputs": [],
   "source": [
    "# Code guided by IronHack Bot\n",
    "def cust_order():\n",
    "    while True:\n",
    "        item = input(\"Please enter item you would like to order: \")\n",
    "        if item in [\"t-shirt\", \"mug\", \"hat\", \"book\", \"keychain\"]:\n",
    "            customer_orders.add(item) \n",
    "            add_to_order = input(\"Would you like to order another item? Enter '1' for yes or '2' for no: \")\n",
    "            if add_to_order == '2':\n",
    "                print(\"Thank you for your order.\")\n",
    "                break\n",
    "        else:\n",
    "            print(\"Item not in inventory. Please choose from: t-shirt, mug, hat, book, or keychain.\")"
   ]
  },
  {
   "cell_type": "code",
   "execution_count": 71,
   "id": "8914e039",
   "metadata": {},
   "outputs": [
    {
     "name": "stdout",
     "output_type": "stream",
     "text": [
      "Please enter item you would like to order: hair extensions\n",
      "Item not in inventory. Please choose from: t-shirt, mug, hat, book, or keychain.\n",
      "Please enter item you would like to order: mug\n",
      "Would you like to order another item? Enter '1' for yes or '2' for no: 1\n",
      "Please enter item you would like to order: book\n",
      "Would you like to order another item? Enter '1' for yes or '2' for no: 2\n",
      "Thank you for your order.\n"
     ]
    }
   ],
   "source": [
    "cust_order()"
   ]
  },
  {
   "cell_type": "code",
   "execution_count": 72,
   "id": "385a3a14",
   "metadata": {},
   "outputs": [
    {
     "name": "stdout",
     "output_type": "stream",
     "text": [
      "{'book', 'mug'}\n"
     ]
    }
   ],
   "source": [
    "print(customer_orders)"
   ]
  },
  {
   "cell_type": "code",
   "execution_count": 74,
   "id": "53cc9c87",
   "metadata": {},
   "outputs": [
    {
     "name": "stdout",
     "output_type": "stream",
     "text": [
      "{'t-shirt': 10, 'mug': 9, 'hat': 10, 'book': 9, 'keychain': 10}\n"
     ]
    }
   ],
   "source": [
    "for key in inventory:\n",
    "    inventory[key] = int(inventory[key])\n",
    "\n",
    "for order in customer_orders:\n",
    "    inventory[order] -= 1\n",
    "print(inventory)"
   ]
  },
  {
   "cell_type": "code",
   "execution_count": null,
   "id": "75403018",
   "metadata": {},
   "outputs": [],
   "source": []
  }
 ],
 "metadata": {
  "kernelspec": {
   "display_name": "Python 3 (ipykernel)",
   "language": "python",
   "name": "python3"
  },
  "language_info": {
   "codemirror_mode": {
    "name": "ipython",
    "version": 3
   },
   "file_extension": ".py",
   "mimetype": "text/x-python",
   "name": "python",
   "nbconvert_exporter": "python",
   "pygments_lexer": "ipython3",
   "version": "3.11.7"
  }
 },
 "nbformat": 4,
 "nbformat_minor": 5
}
