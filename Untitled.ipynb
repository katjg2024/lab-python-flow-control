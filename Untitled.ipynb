{
 "cells": [
  {
   "cell_type": "code",
   "execution_count": 18,
   "id": "514484ab",
   "metadata": {},
   "outputs": [
    {
     "name": "stdout",
     "output_type": "stream",
     "text": [
      "Please enter quantity of t-shirt: 10\n",
      "Please enter quantity of mug: 10\n",
      "Please enter quantity of hat: 10\n",
      "Please enter quantity of book: 10\n",
      "Please enter quantity of keychain: 10\n",
      "Please enter item you would like to order: key\n",
      "Item not in inventory. Please choose from: t-shirt, mug, hat, book, or keychain.\n",
      "Please enter item you would like to order: keychain\n",
      "Would you like to order another item? Enter '1' for yes or '2' for no: 1\n",
      "Please enter item you would like to order: hat\n",
      "Would you like to order another item? Enter '1' for yes or '2' for no: 1\n",
      "Please enter item you would like to order: mug\n",
      "Would you like to order another item? Enter '1' for yes or '2' for no: 2\n",
      "Thank you for your order.\n"
     ]
    }
   ],
   "source": [
    "products = [\"t-shirt\", \"mug\", \"hat\", \"book\", \"keychain\"]\n",
    "inventory = {}\n",
    "\n",
    "for product in products:\n",
    "    quantity = input(f\"Please enter quantity of {product}: \")\n",
    "    inventory[product]=quantity\n",
    "    \n",
    "customer_orders = set()\n",
    "\n",
    "def cust_order():\n",
    "    while True:\n",
    "        item = input(\"Please enter item you would like to order: \")\n",
    "        if item in [\"t-shirt\", \"mug\", \"hat\", \"book\", \"keychain\"]:\n",
    "            customer_orders.add(item) \n",
    "            add_to_order = input(\"Would you like to order another item? Enter '1' for yes or '2' for no: \")\n",
    "            if add_to_order == '2':\n",
    "                print(\"Thank you for your order.\")\n",
    "                break\n",
    "        else:\n",
    "            print(\"Item not in inventory. Please choose from: t-shirt, mug, hat, book, or keychain.\")\n",
    "\n",
    "cust_order()"
   ]
  },
  {
   "cell_type": "code",
   "execution_count": 16,
   "id": "752ae285",
   "metadata": {},
   "outputs": [
    {
     "name": "stdout",
     "output_type": "stream",
     "text": [
      "Please enter quantity of t-shirt: 10\n",
      "Please enter quantity of mug: 10\n",
      "Please enter quantity of hat: 10\n",
      "Please enter quantity of book: 10\n",
      "Please enter quantity of keychain: 10\n"
     ]
    }
   ],
   "source": [
    "products = [\"t-shirt\", \"mug\", \"hat\", \"book\", \"keychain\"]\n",
    "inventory = {}\n",
    "\n",
    "for product in products:\n",
    "    quantity = input(f\"Please enter quantity of {product}: \")\n",
    "    inventory[product]=quantity\n",
    "    \n",
    "customer_orders = set()\n",
    "\n",
    "def cust_order():\n",
    "    item = input(\"Please enter item you would like to order: \")\n",
    "    if item in [\"t-shirt\", \"mug\", \"hat\", \"book\", \"keychain\"]:\n",
    "        customer_orders.add(item) \n",
    "        add_to_order = input(\"Would you like to order another item? Enter '1' for yes or '2' for no: \")\n",
    "        while add_to_order == '1':\n",
    "            item = input(\"Please enter item you would like to order: \")\n",
    "            if item in inventory:\n",
    "                customer_orders.add(item)   \n",
    "                add_another = input(\"Would you like to order another item? Enter '1' for yes or '2' for no: \")\n",
    "            else:\n",
    "                print(\"Item not in inventory. Please choose from: t-shirt, mug, hat, book, or keychain.\")\n",
    "            if add_to_order == '2':\n",
    "                print(\"Thank you for your order.\")\n",
    "    else:\n",
    "        print(\"Item not in inventory. Please choose from: t-shirt, mug, hat, book, or keychain.\")\n",
    "        cust_order()"
   ]
  },
  {
   "cell_type": "code",
   "execution_count": 17,
   "id": "51c8b824",
   "metadata": {},
   "outputs": [
    {
     "name": "stdout",
     "output_type": "stream",
     "text": [
      "Please enter item you would like to order: hair net\n",
      "Item not in inventory. Please choose from: t-shirt, mug, hat, book, or keychain.\n",
      "Please enter item you would like to order: hat\n",
      "Would you like to order another item? Enter '1' for yes or '2' for no: 1\n",
      "Please enter item you would like to order: mug\n",
      "Would you like to order another item? Enter '1' for yes or '2' for no: 2\n"
     ]
    },
    {
     "ename": "KeyboardInterrupt",
     "evalue": "Interrupted by user",
     "output_type": "error",
     "traceback": [
      "\u001b[0;31m---------------------------------------------------------------------------\u001b[0m",
      "\u001b[0;31mKeyboardInterrupt\u001b[0m                         Traceback (most recent call last)",
      "Cell \u001b[0;32mIn[17], line 1\u001b[0m\n\u001b[0;32m----> 1\u001b[0m cust_order()\n",
      "Cell \u001b[0;32mIn[16], line 26\u001b[0m, in \u001b[0;36mcust_order\u001b[0;34m()\u001b[0m\n\u001b[1;32m     24\u001b[0m \u001b[38;5;28;01melse\u001b[39;00m:\n\u001b[1;32m     25\u001b[0m     \u001b[38;5;28mprint\u001b[39m(\u001b[38;5;124m\"\u001b[39m\u001b[38;5;124mItem not in inventory. Please choose from: t-shirt, mug, hat, book, or keychain.\u001b[39m\u001b[38;5;124m\"\u001b[39m)\n\u001b[0;32m---> 26\u001b[0m     cust_order()\n",
      "Cell \u001b[0;32mIn[16], line 16\u001b[0m, in \u001b[0;36mcust_order\u001b[0;34m()\u001b[0m\n\u001b[1;32m     14\u001b[0m add_to_order \u001b[38;5;241m=\u001b[39m \u001b[38;5;28minput\u001b[39m(\u001b[38;5;124m\"\u001b[39m\u001b[38;5;124mWould you like to order another item? Enter \u001b[39m\u001b[38;5;124m'\u001b[39m\u001b[38;5;124m1\u001b[39m\u001b[38;5;124m'\u001b[39m\u001b[38;5;124m for yes or \u001b[39m\u001b[38;5;124m'\u001b[39m\u001b[38;5;124m2\u001b[39m\u001b[38;5;124m'\u001b[39m\u001b[38;5;124m for no: \u001b[39m\u001b[38;5;124m\"\u001b[39m)\n\u001b[1;32m     15\u001b[0m \u001b[38;5;28;01mwhile\u001b[39;00m add_to_order \u001b[38;5;241m==\u001b[39m \u001b[38;5;124m'\u001b[39m\u001b[38;5;124m1\u001b[39m\u001b[38;5;124m'\u001b[39m:\n\u001b[0;32m---> 16\u001b[0m     item \u001b[38;5;241m=\u001b[39m \u001b[38;5;28minput\u001b[39m(\u001b[38;5;124m\"\u001b[39m\u001b[38;5;124mPlease enter item you would like to order: \u001b[39m\u001b[38;5;124m\"\u001b[39m)\n\u001b[1;32m     17\u001b[0m     \u001b[38;5;28;01mif\u001b[39;00m item \u001b[38;5;129;01min\u001b[39;00m inventory:\n\u001b[1;32m     18\u001b[0m         customer_orders\u001b[38;5;241m.\u001b[39madd(item)   \n",
      "File \u001b[0;32m/opt/anaconda3/lib/python3.11/site-packages/ipykernel/kernelbase.py:1262\u001b[0m, in \u001b[0;36mKernel.raw_input\u001b[0;34m(self, prompt)\u001b[0m\n\u001b[1;32m   1260\u001b[0m     msg \u001b[38;5;241m=\u001b[39m \u001b[38;5;124m\"\u001b[39m\u001b[38;5;124mraw_input was called, but this frontend does not support input requests.\u001b[39m\u001b[38;5;124m\"\u001b[39m\n\u001b[1;32m   1261\u001b[0m     \u001b[38;5;28;01mraise\u001b[39;00m StdinNotImplementedError(msg)\n\u001b[0;32m-> 1262\u001b[0m \u001b[38;5;28;01mreturn\u001b[39;00m \u001b[38;5;28mself\u001b[39m\u001b[38;5;241m.\u001b[39m_input_request(\n\u001b[1;32m   1263\u001b[0m     \u001b[38;5;28mstr\u001b[39m(prompt),\n\u001b[1;32m   1264\u001b[0m     \u001b[38;5;28mself\u001b[39m\u001b[38;5;241m.\u001b[39m_parent_ident[\u001b[38;5;124m\"\u001b[39m\u001b[38;5;124mshell\u001b[39m\u001b[38;5;124m\"\u001b[39m],\n\u001b[1;32m   1265\u001b[0m     \u001b[38;5;28mself\u001b[39m\u001b[38;5;241m.\u001b[39mget_parent(\u001b[38;5;124m\"\u001b[39m\u001b[38;5;124mshell\u001b[39m\u001b[38;5;124m\"\u001b[39m),\n\u001b[1;32m   1266\u001b[0m     password\u001b[38;5;241m=\u001b[39m\u001b[38;5;28;01mFalse\u001b[39;00m,\n\u001b[1;32m   1267\u001b[0m )\n",
      "File \u001b[0;32m/opt/anaconda3/lib/python3.11/site-packages/ipykernel/kernelbase.py:1305\u001b[0m, in \u001b[0;36mKernel._input_request\u001b[0;34m(self, prompt, ident, parent, password)\u001b[0m\n\u001b[1;32m   1302\u001b[0m \u001b[38;5;28;01mexcept\u001b[39;00m \u001b[38;5;167;01mKeyboardInterrupt\u001b[39;00m:\n\u001b[1;32m   1303\u001b[0m     \u001b[38;5;66;03m# re-raise KeyboardInterrupt, to truncate traceback\u001b[39;00m\n\u001b[1;32m   1304\u001b[0m     msg \u001b[38;5;241m=\u001b[39m \u001b[38;5;124m\"\u001b[39m\u001b[38;5;124mInterrupted by user\u001b[39m\u001b[38;5;124m\"\u001b[39m\n\u001b[0;32m-> 1305\u001b[0m     \u001b[38;5;28;01mraise\u001b[39;00m \u001b[38;5;167;01mKeyboardInterrupt\u001b[39;00m(msg) \u001b[38;5;28;01mfrom\u001b[39;00m \u001b[38;5;28;01mNone\u001b[39;00m\n\u001b[1;32m   1306\u001b[0m \u001b[38;5;28;01mexcept\u001b[39;00m \u001b[38;5;167;01mException\u001b[39;00m:\n\u001b[1;32m   1307\u001b[0m     \u001b[38;5;28mself\u001b[39m\u001b[38;5;241m.\u001b[39mlog\u001b[38;5;241m.\u001b[39mwarning(\u001b[38;5;124m\"\u001b[39m\u001b[38;5;124mInvalid Message:\u001b[39m\u001b[38;5;124m\"\u001b[39m, exc_info\u001b[38;5;241m=\u001b[39m\u001b[38;5;28;01mTrue\u001b[39;00m)\n",
      "\u001b[0;31mKeyboardInterrupt\u001b[0m: Interrupted by user"
     ]
    }
   ],
   "source": [
    "cust_order()"
   ]
  },
  {
   "cell_type": "code",
   "execution_count": null,
   "id": "2f0b07c4",
   "metadata": {},
   "outputs": [],
   "source": []
  }
 ],
 "metadata": {
  "kernelspec": {
   "display_name": "Python 3 (ipykernel)",
   "language": "python",
   "name": "python3"
  },
  "language_info": {
   "codemirror_mode": {
    "name": "ipython",
    "version": 3
   },
   "file_extension": ".py",
   "mimetype": "text/x-python",
   "name": "python",
   "nbconvert_exporter": "python",
   "pygments_lexer": "ipython3",
   "version": "3.11.7"
  }
 },
 "nbformat": 4,
 "nbformat_minor": 5
}
